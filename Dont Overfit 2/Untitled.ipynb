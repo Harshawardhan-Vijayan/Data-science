{
 "cells": [
  {
   "cell_type": "code",
   "execution_count": 3,
   "metadata": {},
   "outputs": [],
   "source": [
    "import pandas as pd\n",
    "import numpy as np\n",
    "import matplotlib.pyplot as plt"
   ]
  },
  {
   "cell_type": "code",
   "execution_count": 4,
   "metadata": {},
   "outputs": [
    {
     "data": {
      "text/plain": [
       "id       int64\n",
       "0      float64\n",
       "1      float64\n",
       "2      float64\n",
       "3      float64\n",
       "4      float64\n",
       "5      float64\n",
       "6      float64\n",
       "7      float64\n",
       "8      float64\n",
       "9      float64\n",
       "10     float64\n",
       "11     float64\n",
       "12     float64\n",
       "13     float64\n",
       "14     float64\n",
       "15     float64\n",
       "16     float64\n",
       "17     float64\n",
       "18     float64\n",
       "19     float64\n",
       "20     float64\n",
       "21     float64\n",
       "22     float64\n",
       "23     float64\n",
       "24     float64\n",
       "25     float64\n",
       "26     float64\n",
       "27     float64\n",
       "28     float64\n",
       "        ...   \n",
       "270    float64\n",
       "271    float64\n",
       "272    float64\n",
       "273    float64\n",
       "274    float64\n",
       "275    float64\n",
       "276    float64\n",
       "277    float64\n",
       "278    float64\n",
       "279    float64\n",
       "280    float64\n",
       "281    float64\n",
       "282    float64\n",
       "283    float64\n",
       "284    float64\n",
       "285    float64\n",
       "286    float64\n",
       "287    float64\n",
       "288    float64\n",
       "289    float64\n",
       "290    float64\n",
       "291    float64\n",
       "292    float64\n",
       "293    float64\n",
       "294    float64\n",
       "295    float64\n",
       "296    float64\n",
       "297    float64\n",
       "298    float64\n",
       "299    float64\n",
       "Length: 301, dtype: object"
      ]
     },
     "execution_count": 4,
     "metadata": {},
     "output_type": "execute_result"
    }
   ],
   "source": [
    "train = pd.read_csv(\"train.csv\")\n",
    "test = pd.read_csv(\"test.csv\")\n",
    "train.dtypes\n",
    "test.dtypes"
   ]
  },
  {
   "cell_type": "code",
   "execution_count": 6,
   "metadata": {},
   "outputs": [
    {
     "data": {
      "text/plain": [
       "Index(['id', 'target', '0', '1', '2', '3', '4', '5', '6', '7',\n",
       "       ...\n",
       "       '290', '291', '292', '293', '294', '295', '296', '297', '298', '299'],\n",
       "      dtype='object', length=302)"
      ]
     },
     "execution_count": 6,
     "metadata": {},
     "output_type": "execute_result"
    }
   ],
   "source": [
    "train.columns"
   ]
  },
  {
   "cell_type": "code",
   "execution_count": 12,
   "metadata": {},
   "outputs": [],
   "source": [
    "y =pd.DataFrame(train['target'].copy())\n",
    "x = train.iloc[:,2:]\n",
    "# y.columns\n",
    "# pd.crosstab(x['target'],train['target'])\n",
    "# y.columns"
   ]
  },
  {
   "cell_type": "code",
   "execution_count": 16,
   "metadata": {},
   "outputs": [],
   "source": [
    "from sklearn.model_selection import train_test_split\n",
    "x_train, x_test, y_train, y_test = train_test_split(x, y, test_size = 0.2, random_state = 0)\n",
    "\n"
   ]
  },
  {
   "cell_type": "code",
   "execution_count": 89,
   "metadata": {},
   "outputs": [
    {
     "name": "stdout",
     "output_type": "stream",
     "text": [
      "[LibSVM]"
     ]
    },
    {
     "name": "stderr",
     "output_type": "stream",
     "text": [
      "C:\\ProgramData\\Anaconda3\\lib\\site-packages\\sklearn\\utils\\validation.py:724: DataConversionWarning: A column-vector y was passed when a 1d array was expected. Please change the shape of y to (n_samples, ), for example using ravel().\n",
      "  y = column_or_1d(y, warn=True)\n",
      "C:\\ProgramData\\Anaconda3\\lib\\site-packages\\sklearn\\svm\\base.py:193: FutureWarning: The default value of gamma will change from 'auto' to 'scale' in version 0.22 to account better for unscaled features. Set gamma explicitly to 'auto' or 'scale' to avoid this warning.\n",
      "  \"avoid this warning.\", FutureWarning)\n"
     ]
    },
    {
     "data": {
      "text/plain": [
       "SVC(C=9, cache_size=200, class_weight=None, coef0=0.0,\n",
       "    decision_function_shape='ovo', degree=3, gamma='auto_deprecated',\n",
       "    kernel='sigmoid', max_iter=-1, probability=False, random_state=None,\n",
       "    shrinking=False, tol=0.0001, verbose=True)"
      ]
     },
     "execution_count": 89,
     "metadata": {},
     "output_type": "execute_result"
    }
   ],
   "source": [
    "from sklearn.svm import SVC\n",
    "SVC = SVC(C=9,kernel='sigmoid',verbose = True,decision_function_shape='ovo',shrinking=False,tol=0.0001)\n",
    "SVC.fit(x_train,y_train)"
   ]
  },
  {
   "cell_type": "code",
   "execution_count": 90,
   "metadata": {},
   "outputs": [],
   "source": [
    "test1 = SVC.predict(x_test)\n"
   ]
  },
  {
   "cell_type": "code",
   "execution_count": 91,
   "metadata": {},
   "outputs": [
    {
     "data": {
      "text/plain": [
       "array([[11,  6],\n",
       "       [ 8, 25]], dtype=int64)"
      ]
     },
     "execution_count": 91,
     "metadata": {},
     "output_type": "execute_result"
    }
   ],
   "source": [
    "from sklearn.metrics import confusion_matrix\n",
    "confusion_matrix(test1, y_test)"
   ]
  },
  {
   "cell_type": "code",
   "execution_count": 93,
   "metadata": {},
   "outputs": [
    {
     "data": {
      "text/plain": [
       "Index(['id', '0', '1', '2', '3', '4', '5', '6', '7', '8',\n",
       "       ...\n",
       "       '290', '291', '292', '293', '294', '295', '296', '297', '298', '299'],\n",
       "      dtype='object', length=301)"
      ]
     },
     "execution_count": 93,
     "metadata": {},
     "output_type": "execute_result"
    }
   ],
   "source": [
    "x1 = test.columns\n",
    "x1"
   ]
  },
  {
   "cell_type": "code",
   "execution_count": 94,
   "metadata": {},
   "outputs": [],
   "source": [
    "x1 = test.iloc[:,1:]\n",
    "test['target'] = SVC.predict(x1)"
   ]
  },
  {
   "cell_type": "code",
   "execution_count": 95,
   "metadata": {},
   "outputs": [
    {
     "data": {
      "text/plain": [
       "Index(['id', '0', '1', '2', '3', '4', '5', '6', '7', '8',\n",
       "       ...\n",
       "       '291', '292', '293', '294', '295', '296', '297', '298', '299',\n",
       "       'target'],\n",
       "      dtype='object', length=302)"
      ]
     },
     "execution_count": 95,
     "metadata": {},
     "output_type": "execute_result"
    }
   ],
   "source": [
    "test.columns"
   ]
  },
  {
   "cell_type": "code",
   "execution_count": 102,
   "metadata": {},
   "outputs": [],
   "source": [
    "sub = test[['id','target']].copy()\n",
    "sub.to_csv(\"sub.csv\",index=False)"
   ]
  },
  {
   "cell_type": "code",
   "execution_count": 104,
   "metadata": {},
   "outputs": [
    {
     "name": "stderr",
     "output_type": "stream",
     "text": [
      "C:\\ProgramData\\Anaconda3\\lib\\site-packages\\sklearn\\utils\\validation.py:724: DataConversionWarning: A column-vector y was passed when a 1d array was expected. Please change the shape of y to (n_samples, ), for example using ravel().\n",
      "  y = column_or_1d(y, warn=True)\n",
      "C:\\ProgramData\\Anaconda3\\lib\\site-packages\\sklearn\\discriminant_analysis.py:388: UserWarning: Variables are collinear.\n",
      "  warnings.warn(\"Variables are collinear.\")\n"
     ]
    },
    {
     "data": {
      "text/plain": [
       "array([[ 7,  9],\n",
       "       [12, 22]], dtype=int64)"
      ]
     },
     "execution_count": 104,
     "metadata": {},
     "output_type": "execute_result"
    }
   ],
   "source": [
    "from sklearn.discriminant_analysis import LinearDiscriminantAnalysis as LDA\n",
    "lda = LDA(n_components=1)\n",
    "lda.fit(x_train,y_train)\n",
    "y_preds = lda.predict(x_test)\n",
    "from sklearn.metrics import confusion_matrix\n",
    "confusion_matrix(y_preds, y_test)\n"
   ]
  },
  {
   "cell_type": "code",
   "execution_count": 105,
   "metadata": {},
   "outputs": [
    {
     "data": {
      "text/plain": [
       "id        0.000000\n",
       "target   -0.586860\n",
       "0         0.106077\n",
       "1        -0.189599\n",
       "2        -0.010630\n",
       "3         0.055431\n",
       "4         0.012862\n",
       "5        -0.098958\n",
       "6        -0.079293\n",
       "7        -0.351046\n",
       "8        -0.241034\n",
       "9         0.000361\n",
       "10       -0.069617\n",
       "11       -0.036991\n",
       "12       -0.045197\n",
       "13       -0.025978\n",
       "14       -0.139212\n",
       "15       -0.221892\n",
       "16        0.310549\n",
       "17       -0.098167\n",
       "18        0.124282\n",
       "19       -0.157852\n",
       "20        0.027237\n",
       "21        0.052168\n",
       "22       -0.210854\n",
       "23       -0.044015\n",
       "24       -0.116954\n",
       "25       -0.103938\n",
       "26       -0.022190\n",
       "27       -0.117932\n",
       "            ...   \n",
       "270       0.433295\n",
       "271      -0.037347\n",
       "272      -0.204060\n",
       "273       0.131684\n",
       "274       0.091704\n",
       "275      -0.013121\n",
       "276      -0.241220\n",
       "277      -0.087609\n",
       "278      -0.091801\n",
       "279      -0.149032\n",
       "280       0.202590\n",
       "281       0.129866\n",
       "282      -0.331291\n",
       "283      -0.050451\n",
       "284       0.087069\n",
       "285       0.037586\n",
       "286      -0.003405\n",
       "287       0.027303\n",
       "288       0.169956\n",
       "289       0.086410\n",
       "290      -0.144876\n",
       "291       0.111833\n",
       "292      -0.117163\n",
       "293       0.054283\n",
       "294      -0.195507\n",
       "295       0.092353\n",
       "296       0.182112\n",
       "297      -0.034642\n",
       "298       0.021232\n",
       "299      -0.130038\n",
       "Length: 302, dtype: float64"
      ]
     },
     "execution_count": 105,
     "metadata": {},
     "output_type": "execute_result"
    }
   ],
   "source": []
  },
  {
   "cell_type": "code",
   "execution_count": null,
   "metadata": {},
   "outputs": [],
   "source": []
  }
 ],
 "metadata": {
  "kernelspec": {
   "display_name": "Python 3",
   "language": "python",
   "name": "python3"
  },
  "language_info": {
   "codemirror_mode": {
    "name": "ipython",
    "version": 3
   },
   "file_extension": ".py",
   "mimetype": "text/x-python",
   "name": "python",
   "nbconvert_exporter": "python",
   "pygments_lexer": "ipython3",
   "version": "3.7.3"
  }
 },
 "nbformat": 4,
 "nbformat_minor": 2
}
